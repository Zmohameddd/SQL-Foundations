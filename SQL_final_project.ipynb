{
 "cells": [
  {
   "cell_type": "markdown",
   "metadata": {},
   "source": [
    "<center>\n",
    "    <img src=\"https://cf-courses-data.s3.us.cloud-object-storage.appdomain.cloud/IBMDeveloperSkillsNetwork-DB0201EN-SkillsNetwork/labs/FinalModule_Coursera_V5/images/SN_web_lightmode.png\" width=\"300\" alt=\"cognitiveclass.ai logo\">\n",
    "</center>\n",
    "\n",
    "<h1 align=center><font size = 5>SQL FOUNDATIONS FINAL PROJECT </font></h1>\n",
    "<h1 align=center><font size = 3>Zak Mohamed</font></h1>\n",
    "\n"
   ]
  },
  {
   "cell_type": "markdown",
   "metadata": {},
   "source": [
    "# Introduction\n",
    "\n",
    "This Python notebook has three main purposes:\n",
    "\n",
    "1.  To understand three Chicago datasets\n",
    "2.  To load the three datasets into three tables in a SQLIte database\n",
    "3.  To execute SQL queries to answer some questions\n"
   ]
  },
  {
   "cell_type": "markdown",
   "metadata": {},
   "source": [
    "## Understand the datasets\n",
    "\n",
    "To complete the problems in this notebook I will be using three datasets that are available on the city of Chicago's Data Portal:\n",
    "\n",
    "1.  <a href=\"https://data.cityofchicago.org/Health-Human-Services/Census-Data-Selected-socioeconomic-indicators-in-C/kn9c-c2s2?utm_medium=Exinfluencer&utm_source=Exinfluencer&utm_content=000026UJ&utm_term=10006555&utm_id=NA-SkillsNetwork-Channel-SkillsNetworkCoursesIBMDeveloperSkillsNetworkDB0201ENSkillsNetwork20127838-2021-01-01\">Socioeconomic Indicators in Chicago</a>\n",
    "2.  <a href=\"https://data.cityofchicago.org/Education/Chicago-Public-Schools-Progress-Report-Cards-2011-/9xs2-f89t?utm_medium=Exinfluencer&utm_source=Exinfluencer&utm_content=000026UJ&utm_term=10006555&utm_id=NA-SkillsNetwork-Channel-SkillsNetworkCoursesIBMDeveloperSkillsNetworkDB0201ENSkillsNetwork20127838-2021-01-01\">Chicago Public Schools</a>\n",
    "3.  <a href=\"https://data.cityofchicago.org/Public-Safety/Crimes-2001-to-present/ijzp-q8t2?utm_medium=Exinfluencer&utm_source=Exinfluencer&utm_content=000026UJ&utm_term=10006555&utm_id=NA-SkillsNetwork-Channel-SkillsNetworkCoursesIBMDeveloperSkillsNetworkDB0201ENSkillsNetwork20127838-2021-01-01\">Chicago Crime Data</a>\n",
    "\n",
    "### 1. Socioeconomic Indicators in Chicago\n",
    "\n",
    "This dataset contains a selection of six socioeconomic indicators of public health significance and a “hardship index,” for each Chicago community area, for the years 2008 – 2012.\n",
    "\n",
    "A detailed description of this dataset and the original dataset can be obtained from the Chicago Data Portal at:\n",
    "\n",
    "[https://data.cityofchicago.org/Health-Human-Services/Census-Data-Selected-socioeconomic-indicators-in-C/kn9c-c2s2](https://data.cityofchicago.org/Health-Human-Services/Census-Data-Selected-socioeconomic-indicators-in-C/kn9c-c2s2?utm_medium=Exinfluencer&utm_source=Exinfluencer&utm_content=000026UJ&utm_term=10006555&utm_id=NA-SkillsNetwork-Channel-SkillsNetworkCoursesIBMDeveloperSkillsNetworkDB0201ENSkillsNetwork20127838-2021-01-01&cm_mmc=Email_Newsletter-\\_-Developer_Ed%2BTech-\\_-WW_WW-\\_-SkillsNetwork-Courses-IBMDeveloperSkillsNetwork-DB0201EN-SkillsNetwork-20127838&cm_mmca1=000026UJ&cm_mmca2=10006555&cm_mmca3=M12345678&cvosrc=email.Newsletter.M12345678&cvo_campaign=000026UJ)\n",
    "\n",
    "### 2. Chicago Public Schools\n",
    "\n",
    "This dataset shows all school level performance data used to create CPS School Report Cards for the 2011-2012 school year. This dataset is provided by the city of Chicago's Data Portal.\n",
    "\n",
    "A detailed description of this dataset and the original dataset can be obtained from the Chicago Data Portal at:\n",
    "\n",
    "[https://data.cityofchicago.org/Education/Chicago-Public-Schools-Progress-Report-Cards-2011-/9xs2-f89t](https://data.cityofchicago.org/Education/Chicago-Public-Schools-Progress-Report-Cards-2011-/9xs2-f89t?utm_medium=Exinfluencer&utm_source=Exinfluencer&utm_content=000026UJ&utm_term=10006555&utm_id=NA-SkillsNetwork-Channel-SkillsNetworkCoursesIBMDeveloperSkillsNetworkDB0201ENSkillsNetwork20127838-2021-01-01&cm_mmc=Email_Newsletter-\\_-Developer_Ed%2BTech-\\_-WW_WW-\\_-SkillsNetwork-Courses-IBMDeveloperSkillsNetwork-DB0201EN-SkillsNetwork-20127838&cm_mmca1=000026UJ&cm_mmca2=10006555&cm_mmca3=M12345678&cvosrc=email.Newsletter.M12345678&cvo_campaign=000026UJ)\n",
    "\n",
    "### 3. Chicago Crime Data\n",
    "\n",
    "This dataset reflects reported incidents of crime (with the exception of murders where data exists for each victim) that occurred in the City of Chicago from 2001 to present, minus the most recent seven days.\n",
    "\n",
    "A detailed description of this dataset and the original dataset can be obtained from the Chicago Data Portal at:\n",
    "\n",
    "[https://data.cityofchicago.org/Public-Safety/Crimes-2001-to-present/ijzp-q8t2](https://data.cityofchicago.org/Public-Safety/Crimes-2001-to-present/ijzp-q8t2?utm_medium=Exinfluencer&utm_source=Exinfluencer&utm_content=000026UJ&utm_term=10006555&utm_id=NA-SkillsNetwork-Channel-SkillsNetworkCoursesIBMDeveloperSkillsNetworkDB0201ENSkillsNetwork20127838-2021-01-01&cm_mmc=Email_Newsletter-\\_-Developer_Ed%2BTech-\\_-WW_WW-\\_-SkillsNetwork-Courses-IBMDeveloperSkillsNetwork-DB0201EN-SkillsNetwork-20127838&cm_mmca1=000026UJ&cm_mmca2=10006555&cm_mmca3=M12345678&cvosrc=email.Newsletter.M12345678&cvo_campaign=000026UJ)\n"
   ]
  },
  {
   "cell_type": "markdown",
   "metadata": {},
   "source": [
    "### Download the datasets\n",
    "\n",
    "This project requires these three tables populated with a subset of the whole datasets.\n",
    "\n",
    "In many cases the dataset to be analyzed is available as a .CSV (comma separated values) file, perhaps on the internet. \n",
    "\n",
    "Here are the links I will be using to read the data files using the Pandas library. \n",
    "\n",
    "* Chicago Census Data\n",
    "\n",
    "https://cf-courses-data.s3.us.cloud-object-storage.appdomain.cloud/IBMDeveloperSkillsNetwork-DB0201EN-SkillsNetwork/labs/FinalModule_Coursera_V5/data/ChicagoCensusData.csv?utm_medium=Exinfluencer&utm_source=Exinfluencer&utm_content=000026UJ&utm_term=10006555&utm_id=NA-SkillsNetwork-Channel-SkillsNetworkCoursesIBMDeveloperSkillsNetworkDB0201ENSkillsNetwork20127838-2021-01-01\n",
    "\n",
    "* Chicago Public Schools\n",
    "\n",
    "https://cf-courses-data.s3.us.cloud-object-storage.appdomain.cloud/IBMDeveloperSkillsNetwork-DB0201EN-SkillsNetwork/labs/FinalModule_Coursera_V5/data/ChicagoPublicSchools.csv?utm_medium=Exinfluencer&utm_source=Exinfluencer&utm_content=000026UJ&utm_term=10006555&utm_id=NA-SkillsNetwork-Channel-SkillsNetworkCoursesIBMDeveloperSkillsNetworkDB0201ENSkillsNetwork20127838-2021-01-01\n",
    "\n",
    "* Chicago Crime Data\n",
    "\n",
    "https://cf-courses-data.s3.us.cloud-object-storage.appdomain.cloud/IBMDeveloperSkillsNetwork-DB0201EN-SkillsNetwork/labs/FinalModule_Coursera_V5/data/ChicagoCrimeData.csv?utm_medium=Exinfluencer&utm_source=Exinfluencer&utm_content=000026UJ&utm_term=10006555&utm_id=NA-SkillsNetwork-Channel-SkillsNetworkCoursesIBMDeveloperSkillsNetworkDB0201ENSkillsNetwork20127838-2021-01-01\n",
    "\n",
    "**NOTE:** Ensure you use the datasets available on the links above instead of directly from the Chicago Data Portal. The versions linked here are subsets of the original datasets and have some of the column names modified to be more database friendly which will make it easier to complete this assignment.\n"
   ]
  },
  {
   "cell_type": "markdown",
   "metadata": {},
   "source": [
    "### Store the datasets in database tables\n",
    "\n",
    "To analyze the data using SQL, it first needs to be loaded into SQLite DB.\n",
    "We will create three tables in as under:\n",
    "\n",
    "1.  **CENSUS_DATA**\n",
    "2.  **CHICAGO_PUBLIC_SCHOOLS**\n",
    "3.  **CHICAGO_CRIME_DATA**\n"
   ]
  },
  {
   "cell_type": "markdown",
   "metadata": {},
   "source": [
    "Load the `pandas` and `sqlite3` libraries and establish a connection to `FinalDB.db`\n"
   ]
  },
  {
   "cell_type": "code",
   "execution_count": 1,
   "metadata": {
    "tags": []
   },
   "outputs": [],
   "source": [
    "!pip install -q pandas==1.1.5\n",
    "import pandas, csv, sqlite3\n",
    "con = sqlite3.connect(\"FinalDB.db\")\n",
    "cur = con.cursor()"
   ]
  },
  {
   "cell_type": "markdown",
   "metadata": {},
   "source": [
    "Load the SQL magic module\n"
   ]
  },
  {
   "cell_type": "code",
   "execution_count": 2,
   "metadata": {
    "tags": []
   },
   "outputs": [],
   "source": [
    "%load_ext sql"
   ]
  },
  {
   "cell_type": "markdown",
   "metadata": {},
   "source": [
    "Use `Pandas` to load the data available in the links above to dataframes. Use these dataframes to load data on to the database `FinalDB.db` as required tables.\n"
   ]
  },
  {
   "cell_type": "code",
   "execution_count": 9,
   "metadata": {
    "tags": []
   },
   "outputs": [
    {
     "name": "stderr",
     "output_type": "stream",
     "text": [
      "/home/jupyterlab/conda/envs/python/lib/python3.7/site-packages/pandas/core/generic.py:2615: UserWarning: The spaces in these column names will not be changed. In pandas versions < 0.14, spaces were converted to underscores.\n",
      "  method=method,\n"
     ]
    }
   ],
   "source": [
    "url = \"https://cf-courses-data.s3.us.cloud-object-storage.appdomain.cloud/IBMDeveloperSkillsNetwork-DB0201EN-SkillsNetwork/labs/FinalModule_Coursera_V5/data/ChicagoCensusData.csv?utm_medium=Exinfluencer&utm_source=Exinfluencer&utm_content=000026UJ&utm_term=10006555&utm_id=NA-SkillsNetwork-Channel-SkillsNetworkCoursesIBMDeveloperSkillsNetworkDB0201ENSkillsNetwork20127838-2021-01-01\"\n",
    "df = pandas.read_csv(url)\n",
    "df.to_sql(\"CENSUS_DATA\", con, if_exists = 'replace', index = False, method = \"multi\")\n",
    "\n",
    "url2 = \"https://cf-courses-data.s3.us.cloud-object-storage.appdomain.cloud/IBMDeveloperSkillsNetwork-DB0201EN-SkillsNetwork/labs/FinalModule_Coursera_V5/data/ChicagoPublicSchools.csv?utm_medium=Exinfluencer&utm_source=Exinfluencer&utm_content=000026UJ&utm_term=10006555&utm_id=NA-SkillsNetwork-Channel-SkillsNetworkCoursesIBMDeveloperSkillsNetworkDB0201ENSkillsNetwork20127838-2021-01-01\"\n",
    "df2 = pandas.read_csv(url2)\n",
    "df2.to_sql(\"CHICAGO_PUBLIC_SCHOOLS\", con, if_exists = 'replace', index = False, method = \"multi\")\n",
    "\n",
    "url3 = \"https://cf-courses-data.s3.us.cloud-object-storage.appdomain.cloud/IBMDeveloperSkillsNetwork-DB0201EN-SkillsNetwork/labs/FinalModule_Coursera_V5/data/ChicagoCrimeData.csv?utm_medium=Exinfluencer&utm_source=Exinfluencer&utm_content=000026UJ&utm_term=10006555&utm_id=NA-SkillsNetwork-Channel-SkillsNetworkCoursesIBMDeveloperSkillsNetworkDB0201ENSkillsNetwork20127838-2021-01-01\"\n",
    "df3 = pandas.read_csv(url3)\n",
    "df3.to_sql(\"CHICAGO_CRIME_DATA\", con, if_exists = 'replace', index = False, method = \"multi\")"
   ]
  },
  {
   "cell_type": "markdown",
   "metadata": {},
   "source": [
    "Establish a connection between SQL magic module and the database `FinalDB.db`\n"
   ]
  },
  {
   "cell_type": "code",
   "execution_count": 10,
   "metadata": {
    "tags": []
   },
   "outputs": [
    {
     "data": {
      "text/plain": [
       "'Connected: @FinalDB.db'"
      ]
     },
     "execution_count": 10,
     "metadata": {},
     "output_type": "execute_result"
    }
   ],
   "source": [
    "%sql sqlite:///FinalDB.db"
   ]
  },
  {
   "cell_type": "markdown",
   "metadata": {},
   "source": [
    "## Problems\n",
    "\n",
    "Now write and execute SQL queries to solve assignment problems\n",
    "\n",
    "### Problem 1\n",
    "\n",
    "##### Find the total number of crimes recorded in the CRIME table.\n"
   ]
  },
  {
   "cell_type": "code",
   "execution_count": 11,
   "metadata": {
    "tags": []
   },
   "outputs": [
    {
     "name": "stdout",
     "output_type": "stream",
     "text": [
      " * sqlite:///FinalDB.db\n",
      "Done.\n"
     ]
    },
    {
     "data": {
      "text/html": [
       "<table>\n",
       "    <thead>\n",
       "        <tr>\n",
       "            <th>COUNT(*)</th>\n",
       "        </tr>\n",
       "    </thead>\n",
       "    <tbody>\n",
       "        <tr>\n",
       "            <td>533</td>\n",
       "        </tr>\n",
       "    </tbody>\n",
       "</table>"
      ],
      "text/plain": [
       "[(533,)]"
      ]
     },
     "execution_count": 11,
     "metadata": {},
     "output_type": "execute_result"
    }
   ],
   "source": [
    "%sql SELECT COUNT(*) FROM CHICAGO_CRIME_DATA"
   ]
  },
  {
   "cell_type": "markdown",
   "metadata": {},
   "source": [
    "### Problem 2\n",
    "\n",
    "##### List community area names and numbers with per capita income less than 11000.\n"
   ]
  },
  {
   "cell_type": "code",
   "execution_count": 12,
   "metadata": {
    "tags": []
   },
   "outputs": [
    {
     "name": "stdout",
     "output_type": "stream",
     "text": [
      " * sqlite:///FinalDB.db\n",
      "Done.\n"
     ]
    },
    {
     "data": {
      "text/html": [
       "<table>\n",
       "    <thead>\n",
       "        <tr>\n",
       "            <th>COMMUNITY_AREA_NUMBER</th>\n",
       "            <th>COMMUNITY_AREA_NAME</th>\n",
       "            <th>PER_CAPITA_INCOME</th>\n",
       "        </tr>\n",
       "    </thead>\n",
       "    <tbody>\n",
       "        <tr>\n",
       "            <td>26.0</td>\n",
       "            <td>West Garfield Park</td>\n",
       "            <td>10934</td>\n",
       "        </tr>\n",
       "        <tr>\n",
       "            <td>30.0</td>\n",
       "            <td>South Lawndale</td>\n",
       "            <td>10402</td>\n",
       "        </tr>\n",
       "        <tr>\n",
       "            <td>37.0</td>\n",
       "            <td>Fuller Park</td>\n",
       "            <td>10432</td>\n",
       "        </tr>\n",
       "        <tr>\n",
       "            <td>54.0</td>\n",
       "            <td>Riverdale</td>\n",
       "            <td>8201</td>\n",
       "        </tr>\n",
       "    </tbody>\n",
       "</table>"
      ],
      "text/plain": [
       "[(26.0, 'West Garfield Park', 10934),\n",
       " (30.0, 'South Lawndale', 10402),\n",
       " (37.0, 'Fuller Park', 10432),\n",
       " (54.0, 'Riverdale', 8201)]"
      ]
     },
     "execution_count": 12,
     "metadata": {},
     "output_type": "execute_result"
    }
   ],
   "source": [
    "%sql SELECT COMMUNITY_AREA_NUMBER, COMMUNITY_AREA_NAME, PER_CAPITA_INCOME FROM CENSUS_DATA WHERE PER_CAPITA_INCOME < 11000"
   ]
  },
  {
   "cell_type": "markdown",
   "metadata": {},
   "source": [
    "### Problem 3\n",
    "\n",
    "##### List all case numbers for crimes involving minors?(children are not considered minors for the purposes of crime analysis) \n"
   ]
  },
  {
   "cell_type": "code",
   "execution_count": null,
   "metadata": {
    "tags": []
   },
   "outputs": [],
   "source": [
    "df3.head(5)"
   ]
  },
  {
   "cell_type": "code",
   "execution_count": 93,
   "metadata": {
    "tags": []
   },
   "outputs": [
    {
     "name": "stdout",
     "output_type": "stream",
     "text": [
      " * sqlite:///FinalDB.db\n",
      "Done.\n"
     ]
    },
    {
     "data": {
      "text/html": [
       "<table>\n",
       "    <thead>\n",
       "        <tr>\n",
       "            <th>CASE_NUMBER</th>\n",
       "        </tr>\n",
       "    </thead>\n",
       "    <tbody>\n",
       "        <tr>\n",
       "            <td>HL266884</td>\n",
       "        </tr>\n",
       "        <tr>\n",
       "            <td>HK238408</td>\n",
       "        </tr>\n",
       "    </tbody>\n",
       "</table>"
      ],
      "text/plain": [
       "[('HL266884',), ('HK238408',)]"
      ]
     },
     "execution_count": 93,
     "metadata": {},
     "output_type": "execute_result"
    }
   ],
   "source": [
    "%%sql \n",
    "SELECT CASE_NUMBER\n",
    "FROM CHICAGO_CRIME_DATA\n",
    "WHERE DESCRIPTION LIKE '%MINOR%'"
   ]
  },
  {
   "cell_type": "markdown",
   "metadata": {},
   "source": [
    "### Problem 4\n",
    "\n",
    "##### List all kidnapping crimes involving a child?\n"
   ]
  },
  {
   "cell_type": "code",
   "execution_count": 43,
   "metadata": {
    "tags": []
   },
   "outputs": [
    {
     "name": "stdout",
     "output_type": "stream",
     "text": [
      " * sqlite:///FinalDB.db\n",
      "Done.\n"
     ]
    },
    {
     "data": {
      "text/html": [
       "<table>\n",
       "    <thead>\n",
       "        <tr>\n",
       "            <th>ID</th>\n",
       "            <th>CASE_NUMBER</th>\n",
       "            <th>DATE</th>\n",
       "            <th>BLOCK</th>\n",
       "            <th>IUCR</th>\n",
       "            <th>PRIMARY_TYPE</th>\n",
       "            <th>DESCRIPTION</th>\n",
       "            <th>LOCATION_DESCRIPTION</th>\n",
       "            <th>ARREST</th>\n",
       "            <th>DOMESTIC</th>\n",
       "            <th>BEAT</th>\n",
       "            <th>DISTRICT</th>\n",
       "            <th>WARD</th>\n",
       "            <th>COMMUNITY_AREA_NUMBER</th>\n",
       "            <th>FBICODE</th>\n",
       "            <th>X_COORDINATE</th>\n",
       "            <th>Y_COORDINATE</th>\n",
       "            <th>YEAR</th>\n",
       "            <th>LATITUDE</th>\n",
       "            <th>LONGITUDE</th>\n",
       "            <th>LOCATION</th>\n",
       "        </tr>\n",
       "    </thead>\n",
       "    <tbody>\n",
       "        <tr>\n",
       "            <td>5276766</td>\n",
       "            <td>HN144152</td>\n",
       "            <td>2007-01-26</td>\n",
       "            <td>050XX W VAN BUREN ST</td>\n",
       "            <td>1792</td>\n",
       "            <td>KIDNAPPING</td>\n",
       "            <td>CHILD ABDUCTION/STRANGER</td>\n",
       "            <td>STREET</td>\n",
       "            <td>0</td>\n",
       "            <td>0</td>\n",
       "            <td>1533</td>\n",
       "            <td>15</td>\n",
       "            <td>29.0</td>\n",
       "            <td>25.0</td>\n",
       "            <td>20</td>\n",
       "            <td>1143050.0</td>\n",
       "            <td>1897546.0</td>\n",
       "            <td>2007</td>\n",
       "            <td>41.87490841</td>\n",
       "            <td>-87.75024931</td>\n",
       "            <td>(41.874908413, -87.750249307)</td>\n",
       "        </tr>\n",
       "    </tbody>\n",
       "</table>"
      ],
      "text/plain": [
       "[(5276766, 'HN144152', '2007-01-26', '050XX W VAN BUREN ST', '1792', 'KIDNAPPING', 'CHILD ABDUCTION/STRANGER', 'STREET', 0, 0, 1533, 15, 29.0, 25.0, '20', 1143050.0, 1897546.0, 2007, 41.87490841, -87.75024931, '(41.874908413, -87.750249307)')]"
      ]
     },
     "execution_count": 43,
     "metadata": {},
     "output_type": "execute_result"
    }
   ],
   "source": [
    "%%sql\n",
    "SELECT * FROM CHICAGO_CRIME_DATA\n",
    "WHERE PRIMARY_TYPE LIKE '%KIDNAPPING%' AND DESCRIPTION LIKE '%CHILD%'"
   ]
  },
  {
   "cell_type": "markdown",
   "metadata": {},
   "source": [
    "### Problem 5\n",
    "\n",
    "##### List the kind of crimes that were recorded at schools. (No repetitions)\n"
   ]
  },
  {
   "cell_type": "code",
   "execution_count": 94,
   "metadata": {
    "tags": []
   },
   "outputs": [
    {
     "name": "stdout",
     "output_type": "stream",
     "text": [
      " * sqlite:///FinalDB.db\n",
      "Done.\n"
     ]
    },
    {
     "data": {
      "text/html": [
       "<table>\n",
       "    <thead>\n",
       "        <tr>\n",
       "            <th>PRIMARY_TYPE</th>\n",
       "            <th>DESCRIPTION</th>\n",
       "        </tr>\n",
       "    </thead>\n",
       "    <tbody>\n",
       "        <tr>\n",
       "            <td>BATTERY</td>\n",
       "            <td>SIMPLE</td>\n",
       "        </tr>\n",
       "        <tr>\n",
       "            <td>BATTERY</td>\n",
       "            <td>PRO EMP HANDS NO/MIN INJURY</td>\n",
       "        </tr>\n",
       "        <tr>\n",
       "            <td>BATTERY</td>\n",
       "            <td>SIMPLE</td>\n",
       "        </tr>\n",
       "        <tr>\n",
       "            <td>BATTERY</td>\n",
       "            <td>SIMPLE</td>\n",
       "        </tr>\n",
       "        <tr>\n",
       "            <td>BATTERY</td>\n",
       "            <td>SIMPLE</td>\n",
       "        </tr>\n",
       "        <tr>\n",
       "            <td>CRIMINAL DAMAGE</td>\n",
       "            <td>TO VEHICLE</td>\n",
       "        </tr>\n",
       "        <tr>\n",
       "            <td>NARCOTICS</td>\n",
       "            <td>POSS: HEROIN(WHITE)</td>\n",
       "        </tr>\n",
       "        <tr>\n",
       "            <td>NARCOTICS</td>\n",
       "            <td>MANU/DEL:CANNABIS 10GM OR LESS</td>\n",
       "        </tr>\n",
       "        <tr>\n",
       "            <td>ASSAULT</td>\n",
       "            <td>PRO EMP HANDS NO/MIN INJURY</td>\n",
       "        </tr>\n",
       "        <tr>\n",
       "            <td>CRIMINAL TRESPASS</td>\n",
       "            <td>TO LAND</td>\n",
       "        </tr>\n",
       "        <tr>\n",
       "            <td>PUBLIC PEACE VIOLATION</td>\n",
       "            <td>BOMB THREAT</td>\n",
       "        </tr>\n",
       "        <tr>\n",
       "            <td>PUBLIC PEACE VIOLATION</td>\n",
       "            <td>BOMB THREAT</td>\n",
       "        </tr>\n",
       "    </tbody>\n",
       "</table>"
      ],
      "text/plain": [
       "[('BATTERY', 'SIMPLE'),\n",
       " ('BATTERY', 'PRO EMP HANDS NO/MIN INJURY'),\n",
       " ('BATTERY', 'SIMPLE'),\n",
       " ('BATTERY', 'SIMPLE'),\n",
       " ('BATTERY', 'SIMPLE'),\n",
       " ('CRIMINAL DAMAGE', 'TO VEHICLE'),\n",
       " ('NARCOTICS', 'POSS: HEROIN(WHITE)'),\n",
       " ('NARCOTICS', 'MANU/DEL:CANNABIS 10GM OR LESS'),\n",
       " ('ASSAULT', 'PRO EMP HANDS NO/MIN INJURY'),\n",
       " ('CRIMINAL TRESPASS', 'TO LAND'),\n",
       " ('PUBLIC PEACE VIOLATION', 'BOMB THREAT'),\n",
       " ('PUBLIC PEACE VIOLATION', 'BOMB THREAT')]"
      ]
     },
     "execution_count": 94,
     "metadata": {},
     "output_type": "execute_result"
    }
   ],
   "source": [
    "%%sql\n",
    "SELECT PRIMARY_TYPE, DESCRIPTION\n",
    "FROM CHICAGO_CRIME_DATA\n",
    "WHERE LOCATION_DESCRIPTION LIKE \"%SCHOOL%\""
   ]
  },
  {
   "cell_type": "markdown",
   "metadata": {},
   "source": [
    "### Problem 6\n",
    "\n",
    "##### List the type of schools along with the average safety score for each type.\n"
   ]
  },
  {
   "cell_type": "code",
   "execution_count": 67,
   "metadata": {
    "tags": []
   },
   "outputs": [
    {
     "data": {
      "text/html": [
       "<div>\n",
       "<style scoped>\n",
       "    .dataframe tbody tr th:only-of-type {\n",
       "        vertical-align: middle;\n",
       "    }\n",
       "\n",
       "    .dataframe tbody tr th {\n",
       "        vertical-align: top;\n",
       "    }\n",
       "\n",
       "    .dataframe thead th {\n",
       "        text-align: right;\n",
       "    }\n",
       "</style>\n",
       "<table border=\"1\" class=\"dataframe\">\n",
       "  <thead>\n",
       "    <tr style=\"text-align: right;\">\n",
       "      <th></th>\n",
       "      <th>School_ID</th>\n",
       "      <th>NAME_OF_SCHOOL</th>\n",
       "      <th>Elementary, Middle, or High School</th>\n",
       "      <th>Street_Address</th>\n",
       "      <th>City</th>\n",
       "      <th>State</th>\n",
       "      <th>ZIP_Code</th>\n",
       "      <th>Phone_Number</th>\n",
       "      <th>Link</th>\n",
       "      <th>Network_Manager</th>\n",
       "      <th>...</th>\n",
       "      <th>Freshman_on_Track_Rate__</th>\n",
       "      <th>X_COORDINATE</th>\n",
       "      <th>Y_COORDINATE</th>\n",
       "      <th>Latitude</th>\n",
       "      <th>Longitude</th>\n",
       "      <th>COMMUNITY_AREA_NUMBER</th>\n",
       "      <th>COMMUNITY_AREA_NAME</th>\n",
       "      <th>Ward</th>\n",
       "      <th>Police_District</th>\n",
       "      <th>Location</th>\n",
       "    </tr>\n",
       "  </thead>\n",
       "  <tbody>\n",
       "    <tr>\n",
       "      <th>0</th>\n",
       "      <td>610038</td>\n",
       "      <td>Abraham Lincoln Elementary School</td>\n",
       "      <td>ES</td>\n",
       "      <td>615 W Kemper Pl</td>\n",
       "      <td>Chicago</td>\n",
       "      <td>IL</td>\n",
       "      <td>60614</td>\n",
       "      <td>(773) 534-5720</td>\n",
       "      <td>http://schoolreports.cps.edu/SchoolProgressRep...</td>\n",
       "      <td>Fullerton Elementary Network</td>\n",
       "      <td>...</td>\n",
       "      <td>NDA</td>\n",
       "      <td>1171699.458</td>\n",
       "      <td>1915829.428</td>\n",
       "      <td>41.924497</td>\n",
       "      <td>-87.644522</td>\n",
       "      <td>7</td>\n",
       "      <td>LINCOLN PARK</td>\n",
       "      <td>43</td>\n",
       "      <td>18</td>\n",
       "      <td>(41.92449696, -87.64452163)</td>\n",
       "    </tr>\n",
       "    <tr>\n",
       "      <th>1</th>\n",
       "      <td>610281</td>\n",
       "      <td>Adam Clayton Powell Paideia Community Academy ...</td>\n",
       "      <td>ES</td>\n",
       "      <td>7511 S South Shore Dr</td>\n",
       "      <td>Chicago</td>\n",
       "      <td>IL</td>\n",
       "      <td>60649</td>\n",
       "      <td>(773) 535-6650</td>\n",
       "      <td>http://schoolreports.cps.edu/SchoolProgressRep...</td>\n",
       "      <td>Skyway Elementary Network</td>\n",
       "      <td>...</td>\n",
       "      <td>NDA</td>\n",
       "      <td>1196129.985</td>\n",
       "      <td>1856209.466</td>\n",
       "      <td>41.760324</td>\n",
       "      <td>-87.556736</td>\n",
       "      <td>43</td>\n",
       "      <td>SOUTH SHORE</td>\n",
       "      <td>7</td>\n",
       "      <td>4</td>\n",
       "      <td>(41.76032435, -87.55673627)</td>\n",
       "    </tr>\n",
       "    <tr>\n",
       "      <th>2</th>\n",
       "      <td>610185</td>\n",
       "      <td>Adlai E Stevenson Elementary School</td>\n",
       "      <td>ES</td>\n",
       "      <td>8010 S Kostner Ave</td>\n",
       "      <td>Chicago</td>\n",
       "      <td>IL</td>\n",
       "      <td>60652</td>\n",
       "      <td>(773) 535-2280</td>\n",
       "      <td>http://schoolreports.cps.edu/SchoolProgressRep...</td>\n",
       "      <td>Midway Elementary Network</td>\n",
       "      <td>...</td>\n",
       "      <td>NDA</td>\n",
       "      <td>1148427.165</td>\n",
       "      <td>1851012.215</td>\n",
       "      <td>41.747111</td>\n",
       "      <td>-87.731702</td>\n",
       "      <td>70</td>\n",
       "      <td>ASHBURN</td>\n",
       "      <td>13</td>\n",
       "      <td>8</td>\n",
       "      <td>(41.74711093, -87.73170248)</td>\n",
       "    </tr>\n",
       "    <tr>\n",
       "      <th>3</th>\n",
       "      <td>609993</td>\n",
       "      <td>Agustin Lara Elementary Academy</td>\n",
       "      <td>ES</td>\n",
       "      <td>4619 S Wolcott Ave</td>\n",
       "      <td>Chicago</td>\n",
       "      <td>IL</td>\n",
       "      <td>60609</td>\n",
       "      <td>(773) 535-4389</td>\n",
       "      <td>http://schoolreports.cps.edu/SchoolProgressRep...</td>\n",
       "      <td>Pershing Elementary Network</td>\n",
       "      <td>...</td>\n",
       "      <td>NDA</td>\n",
       "      <td>1164504.290</td>\n",
       "      <td>1873959.199</td>\n",
       "      <td>41.809757</td>\n",
       "      <td>-87.672145</td>\n",
       "      <td>61</td>\n",
       "      <td>NEW CITY</td>\n",
       "      <td>20</td>\n",
       "      <td>9</td>\n",
       "      <td>(41.8097569, -87.6721446)</td>\n",
       "    </tr>\n",
       "    <tr>\n",
       "      <th>4</th>\n",
       "      <td>610513</td>\n",
       "      <td>Air Force Academy High School</td>\n",
       "      <td>HS</td>\n",
       "      <td>3630 S Wells St</td>\n",
       "      <td>Chicago</td>\n",
       "      <td>IL</td>\n",
       "      <td>60609</td>\n",
       "      <td>(773) 535-1590</td>\n",
       "      <td>http://schoolreports.cps.edu/SchoolProgressRep...</td>\n",
       "      <td>Southwest Side High School Network</td>\n",
       "      <td>...</td>\n",
       "      <td>91.8</td>\n",
       "      <td>1175177.622</td>\n",
       "      <td>1880745.126</td>\n",
       "      <td>41.828146</td>\n",
       "      <td>-87.632794</td>\n",
       "      <td>34</td>\n",
       "      <td>ARMOUR SQUARE</td>\n",
       "      <td>11</td>\n",
       "      <td>9</td>\n",
       "      <td>(41.82814609, -87.63279369)</td>\n",
       "    </tr>\n",
       "  </tbody>\n",
       "</table>\n",
       "<p>5 rows × 78 columns</p>\n",
       "</div>"
      ],
      "text/plain": [
       "   School_ID                                     NAME_OF_SCHOOL  \\\n",
       "0     610038                  Abraham Lincoln Elementary School   \n",
       "1     610281  Adam Clayton Powell Paideia Community Academy ...   \n",
       "2     610185                Adlai E Stevenson Elementary School   \n",
       "3     609993                    Agustin Lara Elementary Academy   \n",
       "4     610513                      Air Force Academy High School   \n",
       "\n",
       "  Elementary, Middle, or High School         Street_Address     City State  \\\n",
       "0                                 ES        615 W Kemper Pl  Chicago    IL   \n",
       "1                                 ES  7511 S South Shore Dr  Chicago    IL   \n",
       "2                                 ES     8010 S Kostner Ave  Chicago    IL   \n",
       "3                                 ES     4619 S Wolcott Ave  Chicago    IL   \n",
       "4                                 HS        3630 S Wells St  Chicago    IL   \n",
       "\n",
       "   ZIP_Code    Phone_Number  \\\n",
       "0     60614  (773) 534-5720   \n",
       "1     60649  (773) 535-6650   \n",
       "2     60652  (773) 535-2280   \n",
       "3     60609  (773) 535-4389   \n",
       "4     60609  (773) 535-1590   \n",
       "\n",
       "                                                Link  \\\n",
       "0  http://schoolreports.cps.edu/SchoolProgressRep...   \n",
       "1  http://schoolreports.cps.edu/SchoolProgressRep...   \n",
       "2  http://schoolreports.cps.edu/SchoolProgressRep...   \n",
       "3  http://schoolreports.cps.edu/SchoolProgressRep...   \n",
       "4  http://schoolreports.cps.edu/SchoolProgressRep...   \n",
       "\n",
       "                      Network_Manager  ... Freshman_on_Track_Rate__  \\\n",
       "0        Fullerton Elementary Network  ...                      NDA   \n",
       "1           Skyway Elementary Network  ...                      NDA   \n",
       "2           Midway Elementary Network  ...                      NDA   \n",
       "3         Pershing Elementary Network  ...                      NDA   \n",
       "4  Southwest Side High School Network  ...                     91.8   \n",
       "\n",
       "  X_COORDINATE Y_COORDINATE   Latitude  Longitude COMMUNITY_AREA_NUMBER  \\\n",
       "0  1171699.458  1915829.428  41.924497 -87.644522                     7   \n",
       "1  1196129.985  1856209.466  41.760324 -87.556736                    43   \n",
       "2  1148427.165  1851012.215  41.747111 -87.731702                    70   \n",
       "3  1164504.290  1873959.199  41.809757 -87.672145                    61   \n",
       "4  1175177.622  1880745.126  41.828146 -87.632794                    34   \n",
       "\n",
       "  COMMUNITY_AREA_NAME  Ward Police_District                     Location  \n",
       "0        LINCOLN PARK    43              18  (41.92449696, -87.64452163)  \n",
       "1         SOUTH SHORE     7               4  (41.76032435, -87.55673627)  \n",
       "2             ASHBURN    13               8  (41.74711093, -87.73170248)  \n",
       "3            NEW CITY    20               9    (41.8097569, -87.6721446)  \n",
       "4       ARMOUR SQUARE    11               9  (41.82814609, -87.63279369)  \n",
       "\n",
       "[5 rows x 78 columns]"
      ]
     },
     "execution_count": 67,
     "metadata": {},
     "output_type": "execute_result"
    }
   ],
   "source": [
    "df2.head()"
   ]
  },
  {
   "cell_type": "code",
   "execution_count": 66,
   "metadata": {
    "tags": []
   },
   "outputs": [
    {
     "name": "stdout",
     "output_type": "stream",
     "text": [
      " * sqlite:///FinalDB.db\n",
      "Done.\n"
     ]
    },
    {
     "data": {
      "text/html": [
       "<table>\n",
       "    <thead>\n",
       "        <tr>\n",
       "            <th>School_Type</th>\n",
       "            <th>Average_Safety_Score</th>\n",
       "        </tr>\n",
       "    </thead>\n",
       "    <tbody>\n",
       "        <tr>\n",
       "            <td>ES</td>\n",
       "            <td>49.52038369304557</td>\n",
       "        </tr>\n",
       "        <tr>\n",
       "            <td>HS</td>\n",
       "            <td>49.62352941176471</td>\n",
       "        </tr>\n",
       "        <tr>\n",
       "            <td>MS</td>\n",
       "            <td>48.0</td>\n",
       "        </tr>\n",
       "    </tbody>\n",
       "</table>"
      ],
      "text/plain": [
       "[('ES', 49.52038369304557), ('HS', 49.62352941176471), ('MS', 48.0)]"
      ]
     },
     "execution_count": 66,
     "metadata": {},
     "output_type": "execute_result"
    }
   ],
   "source": [
    "%%sql\n",
    "SELECT \"Elementary, Middle, or High School\" AS School_Type, AVG(\"Safety_Score\") AS Average_Safety_Score\n",
    "FROM CHICAGO_PUBLIC_SCHOOLS\n",
    "GROUP BY \"Elementary, Middle, or High School\";\n",
    "\n"
   ]
  },
  {
   "cell_type": "markdown",
   "metadata": {},
   "source": [
    "### Problem 7\n",
    "\n",
    "##### List 5 community areas with highest % of households below poverty line\n"
   ]
  },
  {
   "cell_type": "code",
   "execution_count": 68,
   "metadata": {
    "tags": []
   },
   "outputs": [
    {
     "data": {
      "text/html": [
       "<div>\n",
       "<style scoped>\n",
       "    .dataframe tbody tr th:only-of-type {\n",
       "        vertical-align: middle;\n",
       "    }\n",
       "\n",
       "    .dataframe tbody tr th {\n",
       "        vertical-align: top;\n",
       "    }\n",
       "\n",
       "    .dataframe thead th {\n",
       "        text-align: right;\n",
       "    }\n",
       "</style>\n",
       "<table border=\"1\" class=\"dataframe\">\n",
       "  <thead>\n",
       "    <tr style=\"text-align: right;\">\n",
       "      <th></th>\n",
       "      <th>COMMUNITY_AREA_NUMBER</th>\n",
       "      <th>COMMUNITY_AREA_NAME</th>\n",
       "      <th>PERCENT_OF_HOUSING_CROWDED</th>\n",
       "      <th>PERCENT_HOUSEHOLDS_BELOW_POVERTY</th>\n",
       "      <th>PERCENT_AGED_16__UNEMPLOYED</th>\n",
       "      <th>PERCENT_AGED_25__WITHOUT_HIGH_SCHOOL_DIPLOMA</th>\n",
       "      <th>PERCENT_AGED_UNDER_18_OR_OVER_64</th>\n",
       "      <th>PER_CAPITA_INCOME</th>\n",
       "      <th>HARDSHIP_INDEX</th>\n",
       "    </tr>\n",
       "  </thead>\n",
       "  <tbody>\n",
       "    <tr>\n",
       "      <th>0</th>\n",
       "      <td>1.0</td>\n",
       "      <td>Rogers Park</td>\n",
       "      <td>7.7</td>\n",
       "      <td>23.6</td>\n",
       "      <td>8.7</td>\n",
       "      <td>18.2</td>\n",
       "      <td>27.5</td>\n",
       "      <td>23939</td>\n",
       "      <td>39.0</td>\n",
       "    </tr>\n",
       "    <tr>\n",
       "      <th>1</th>\n",
       "      <td>2.0</td>\n",
       "      <td>West Ridge</td>\n",
       "      <td>7.8</td>\n",
       "      <td>17.2</td>\n",
       "      <td>8.8</td>\n",
       "      <td>20.8</td>\n",
       "      <td>38.5</td>\n",
       "      <td>23040</td>\n",
       "      <td>46.0</td>\n",
       "    </tr>\n",
       "    <tr>\n",
       "      <th>2</th>\n",
       "      <td>3.0</td>\n",
       "      <td>Uptown</td>\n",
       "      <td>3.8</td>\n",
       "      <td>24.0</td>\n",
       "      <td>8.9</td>\n",
       "      <td>11.8</td>\n",
       "      <td>22.2</td>\n",
       "      <td>35787</td>\n",
       "      <td>20.0</td>\n",
       "    </tr>\n",
       "    <tr>\n",
       "      <th>3</th>\n",
       "      <td>4.0</td>\n",
       "      <td>Lincoln Square</td>\n",
       "      <td>3.4</td>\n",
       "      <td>10.9</td>\n",
       "      <td>8.2</td>\n",
       "      <td>13.4</td>\n",
       "      <td>25.5</td>\n",
       "      <td>37524</td>\n",
       "      <td>17.0</td>\n",
       "    </tr>\n",
       "    <tr>\n",
       "      <th>4</th>\n",
       "      <td>5.0</td>\n",
       "      <td>North Center</td>\n",
       "      <td>0.3</td>\n",
       "      <td>7.5</td>\n",
       "      <td>5.2</td>\n",
       "      <td>4.5</td>\n",
       "      <td>26.2</td>\n",
       "      <td>57123</td>\n",
       "      <td>6.0</td>\n",
       "    </tr>\n",
       "  </tbody>\n",
       "</table>\n",
       "</div>"
      ],
      "text/plain": [
       "   COMMUNITY_AREA_NUMBER COMMUNITY_AREA_NAME  PERCENT_OF_HOUSING_CROWDED  \\\n",
       "0                    1.0         Rogers Park                         7.7   \n",
       "1                    2.0          West Ridge                         7.8   \n",
       "2                    3.0              Uptown                         3.8   \n",
       "3                    4.0      Lincoln Square                         3.4   \n",
       "4                    5.0        North Center                         0.3   \n",
       "\n",
       "   PERCENT_HOUSEHOLDS_BELOW_POVERTY  PERCENT_AGED_16__UNEMPLOYED  \\\n",
       "0                              23.6                          8.7   \n",
       "1                              17.2                          8.8   \n",
       "2                              24.0                          8.9   \n",
       "3                              10.9                          8.2   \n",
       "4                               7.5                          5.2   \n",
       "\n",
       "   PERCENT_AGED_25__WITHOUT_HIGH_SCHOOL_DIPLOMA  \\\n",
       "0                                          18.2   \n",
       "1                                          20.8   \n",
       "2                                          11.8   \n",
       "3                                          13.4   \n",
       "4                                           4.5   \n",
       "\n",
       "   PERCENT_AGED_UNDER_18_OR_OVER_64  PER_CAPITA_INCOME  HARDSHIP_INDEX  \n",
       "0                              27.5              23939            39.0  \n",
       "1                              38.5              23040            46.0  \n",
       "2                              22.2              35787            20.0  \n",
       "3                              25.5              37524            17.0  \n",
       "4                              26.2              57123             6.0  "
      ]
     },
     "execution_count": 68,
     "metadata": {},
     "output_type": "execute_result"
    }
   ],
   "source": [
    "df.head()"
   ]
  },
  {
   "cell_type": "code",
   "execution_count": 73,
   "metadata": {
    "tags": []
   },
   "outputs": [
    {
     "name": "stdout",
     "output_type": "stream",
     "text": [
      " * sqlite:///FinalDB.db\n",
      "Done.\n"
     ]
    },
    {
     "data": {
      "text/html": [
       "<table>\n",
       "    <thead>\n",
       "        <tr>\n",
       "            <th>COMMUNITY_AREA_NAME</th>\n",
       "            <th>PERCENT_HOUSEHOLDS_BELOW_POVERTY</th>\n",
       "        </tr>\n",
       "    </thead>\n",
       "    <tbody>\n",
       "        <tr>\n",
       "            <td>Riverdale</td>\n",
       "            <td>56.5</td>\n",
       "        </tr>\n",
       "        <tr>\n",
       "            <td>Fuller Park</td>\n",
       "            <td>51.2</td>\n",
       "        </tr>\n",
       "        <tr>\n",
       "            <td>Englewood</td>\n",
       "            <td>46.6</td>\n",
       "        </tr>\n",
       "        <tr>\n",
       "            <td>North Lawndale</td>\n",
       "            <td>43.1</td>\n",
       "        </tr>\n",
       "        <tr>\n",
       "            <td>East Garfield Park</td>\n",
       "            <td>42.4</td>\n",
       "        </tr>\n",
       "    </tbody>\n",
       "</table>"
      ],
      "text/plain": [
       "[('Riverdale', 56.5),\n",
       " ('Fuller Park', 51.2),\n",
       " ('Englewood', 46.6),\n",
       " ('North Lawndale', 43.1),\n",
       " ('East Garfield Park', 42.4)]"
      ]
     },
     "execution_count": 73,
     "metadata": {},
     "output_type": "execute_result"
    }
   ],
   "source": [
    "%%sql\n",
    "SELECT COMMUNITY_AREA_NAME, PERCENT_HOUSEHOLDS_BELOW_POVERTY\n",
    "FROM CENSUS_DATA \n",
    "ORDER BY PERCENT_HOUSEHOLDS_BELOW_POVERTY DESC \n",
    "LIMIT 5"
   ]
  },
  {
   "cell_type": "markdown",
   "metadata": {},
   "source": [
    "### Problem 8\n",
    "\n",
    "##### Which community area is most crime prone? Display the coumminty area number only.\n"
   ]
  },
  {
   "cell_type": "code",
   "execution_count": 79,
   "metadata": {
    "tags": []
   },
   "outputs": [
    {
     "name": "stdout",
     "output_type": "stream",
     "text": [
      " * sqlite:///FinalDB.db\n",
      "Done.\n"
     ]
    },
    {
     "data": {
      "text/html": [
       "<table>\n",
       "    <thead>\n",
       "        <tr>\n",
       "            <th>COMMUNITY_AREA_NUMBER</th>\n",
       "            <th>TOTAL_CRIMES</th>\n",
       "        </tr>\n",
       "    </thead>\n",
       "    <tbody>\n",
       "        <tr>\n",
       "            <td>25.0</td>\n",
       "            <td>43</td>\n",
       "        </tr>\n",
       "    </tbody>\n",
       "</table>"
      ],
      "text/plain": [
       "[(25.0, 43)]"
      ]
     },
     "execution_count": 79,
     "metadata": {},
     "output_type": "execute_result"
    }
   ],
   "source": [
    "%%sql\n",
    "SELECT COMMUNITY_AREA_NUMBER, COUNT(*) AS TOTAL_CRIMES\n",
    "FROM CHICAGO_CRIME_DATA\n",
    "GROUP BY COMMUNITY_AREA_NUMBER\n",
    "ORDER BY TOTAL_CRIMES DESC\n",
    "LIMIT 1"
   ]
  },
  {
   "cell_type": "markdown",
   "metadata": {},
   "source": [
    "\n",
    "Double-click **here** for a hint\n",
    "\n",
    "<!--\n",
    "Query for the 'community area number' that has most number of incidents\n",
    "-->\n"
   ]
  },
  {
   "cell_type": "markdown",
   "metadata": {},
   "source": [
    "### Problem 9\n",
    "\n",
    "##### Use a sub-query to find the name of the community area with highest hardship index\n"
   ]
  },
  {
   "cell_type": "code",
   "execution_count": 83,
   "metadata": {
    "tags": []
   },
   "outputs": [
    {
     "name": "stdout",
     "output_type": "stream",
     "text": [
      " * sqlite:///FinalDB.db\n",
      "Done.\n"
     ]
    },
    {
     "data": {
      "text/html": [
       "<table>\n",
       "    <thead>\n",
       "        <tr>\n",
       "            <th>COMMUNITY_AREA_NAME</th>\n",
       "        </tr>\n",
       "    </thead>\n",
       "    <tbody>\n",
       "        <tr>\n",
       "            <td>Riverdale</td>\n",
       "        </tr>\n",
       "    </tbody>\n",
       "</table>"
      ],
      "text/plain": [
       "[('Riverdale',)]"
      ]
     },
     "execution_count": 83,
     "metadata": {},
     "output_type": "execute_result"
    }
   ],
   "source": [
    "%%sql\n",
    "SELECT COMMUNITY_AREA_NAME\n",
    "FROM CENSUS_DATA\n",
    "WHERE COMMUNITY_AREA_NUMBER = \n",
    "                        (SELECT COMMUNITY_AREA_NUMBER \n",
    "                        FROM CENSUS_DATA\n",
    "                        ORDER BY HARDSHIP_INDEX DESC\n",
    "                        LIMIT 1)"
   ]
  },
  {
   "cell_type": "markdown",
   "metadata": {},
   "source": [
    "### Problem 10\n",
    "\n",
    "##### Use a sub-query to determine the Community Area Name with most number of crimes?\n"
   ]
  },
  {
   "cell_type": "code",
   "execution_count": 90,
   "metadata": {
    "tags": []
   },
   "outputs": [
    {
     "data": {
      "text/html": [
       "<div>\n",
       "<style scoped>\n",
       "    .dataframe tbody tr th:only-of-type {\n",
       "        vertical-align: middle;\n",
       "    }\n",
       "\n",
       "    .dataframe tbody tr th {\n",
       "        vertical-align: top;\n",
       "    }\n",
       "\n",
       "    .dataframe thead th {\n",
       "        text-align: right;\n",
       "    }\n",
       "</style>\n",
       "<table border=\"1\" class=\"dataframe\">\n",
       "  <thead>\n",
       "    <tr style=\"text-align: right;\">\n",
       "      <th></th>\n",
       "      <th>COMMUNITY_AREA_NUMBER</th>\n",
       "      <th>COMMUNITY_AREA_NAME</th>\n",
       "      <th>PERCENT_OF_HOUSING_CROWDED</th>\n",
       "      <th>PERCENT_HOUSEHOLDS_BELOW_POVERTY</th>\n",
       "      <th>PERCENT_AGED_16__UNEMPLOYED</th>\n",
       "      <th>PERCENT_AGED_25__WITHOUT_HIGH_SCHOOL_DIPLOMA</th>\n",
       "      <th>PERCENT_AGED_UNDER_18_OR_OVER_64</th>\n",
       "      <th>PER_CAPITA_INCOME</th>\n",
       "      <th>HARDSHIP_INDEX</th>\n",
       "    </tr>\n",
       "  </thead>\n",
       "  <tbody>\n",
       "    <tr>\n",
       "      <th>0</th>\n",
       "      <td>1.0</td>\n",
       "      <td>Rogers Park</td>\n",
       "      <td>7.7</td>\n",
       "      <td>23.6</td>\n",
       "      <td>8.7</td>\n",
       "      <td>18.2</td>\n",
       "      <td>27.5</td>\n",
       "      <td>23939</td>\n",
       "      <td>39.0</td>\n",
       "    </tr>\n",
       "    <tr>\n",
       "      <th>1</th>\n",
       "      <td>2.0</td>\n",
       "      <td>West Ridge</td>\n",
       "      <td>7.8</td>\n",
       "      <td>17.2</td>\n",
       "      <td>8.8</td>\n",
       "      <td>20.8</td>\n",
       "      <td>38.5</td>\n",
       "      <td>23040</td>\n",
       "      <td>46.0</td>\n",
       "    </tr>\n",
       "    <tr>\n",
       "      <th>2</th>\n",
       "      <td>3.0</td>\n",
       "      <td>Uptown</td>\n",
       "      <td>3.8</td>\n",
       "      <td>24.0</td>\n",
       "      <td>8.9</td>\n",
       "      <td>11.8</td>\n",
       "      <td>22.2</td>\n",
       "      <td>35787</td>\n",
       "      <td>20.0</td>\n",
       "    </tr>\n",
       "    <tr>\n",
       "      <th>3</th>\n",
       "      <td>4.0</td>\n",
       "      <td>Lincoln Square</td>\n",
       "      <td>3.4</td>\n",
       "      <td>10.9</td>\n",
       "      <td>8.2</td>\n",
       "      <td>13.4</td>\n",
       "      <td>25.5</td>\n",
       "      <td>37524</td>\n",
       "      <td>17.0</td>\n",
       "    </tr>\n",
       "    <tr>\n",
       "      <th>4</th>\n",
       "      <td>5.0</td>\n",
       "      <td>North Center</td>\n",
       "      <td>0.3</td>\n",
       "      <td>7.5</td>\n",
       "      <td>5.2</td>\n",
       "      <td>4.5</td>\n",
       "      <td>26.2</td>\n",
       "      <td>57123</td>\n",
       "      <td>6.0</td>\n",
       "    </tr>\n",
       "  </tbody>\n",
       "</table>\n",
       "</div>"
      ],
      "text/plain": [
       "   COMMUNITY_AREA_NUMBER COMMUNITY_AREA_NAME  PERCENT_OF_HOUSING_CROWDED  \\\n",
       "0                    1.0         Rogers Park                         7.7   \n",
       "1                    2.0          West Ridge                         7.8   \n",
       "2                    3.0              Uptown                         3.8   \n",
       "3                    4.0      Lincoln Square                         3.4   \n",
       "4                    5.0        North Center                         0.3   \n",
       "\n",
       "   PERCENT_HOUSEHOLDS_BELOW_POVERTY  PERCENT_AGED_16__UNEMPLOYED  \\\n",
       "0                              23.6                          8.7   \n",
       "1                              17.2                          8.8   \n",
       "2                              24.0                          8.9   \n",
       "3                              10.9                          8.2   \n",
       "4                               7.5                          5.2   \n",
       "\n",
       "   PERCENT_AGED_25__WITHOUT_HIGH_SCHOOL_DIPLOMA  \\\n",
       "0                                          18.2   \n",
       "1                                          20.8   \n",
       "2                                          11.8   \n",
       "3                                          13.4   \n",
       "4                                           4.5   \n",
       "\n",
       "   PERCENT_AGED_UNDER_18_OR_OVER_64  PER_CAPITA_INCOME  HARDSHIP_INDEX  \n",
       "0                              27.5              23939            39.0  \n",
       "1                              38.5              23040            46.0  \n",
       "2                              22.2              35787            20.0  \n",
       "3                              25.5              37524            17.0  \n",
       "4                              26.2              57123             6.0  "
      ]
     },
     "execution_count": 90,
     "metadata": {},
     "output_type": "execute_result"
    }
   ],
   "source": [
    "df.head()"
   ]
  },
  {
   "cell_type": "code",
   "execution_count": 91,
   "metadata": {
    "tags": []
   },
   "outputs": [
    {
     "name": "stdout",
     "output_type": "stream",
     "text": [
      " * sqlite:///FinalDB.db\n",
      "Done.\n"
     ]
    },
    {
     "data": {
      "text/html": [
       "<table>\n",
       "    <thead>\n",
       "        <tr>\n",
       "            <th>COMMUNITY_AREA_NAME</th>\n",
       "        </tr>\n",
       "    </thead>\n",
       "    <tbody>\n",
       "        <tr>\n",
       "            <td>Austin</td>\n",
       "        </tr>\n",
       "    </tbody>\n",
       "</table>"
      ],
      "text/plain": [
       "[('Austin',)]"
      ]
     },
     "execution_count": 91,
     "metadata": {},
     "output_type": "execute_result"
    }
   ],
   "source": [
    "%%sql\n",
    "SELECT COMMUNITY_AREA_NAME\n",
    "FROM CENSUS_DATA\n",
    "WHERE COMMUNITY_AREA_NUMBER = \n",
    "                            (SELECT COMMUNITY_AREA_NUMBER\n",
    "                             FROM CHICAGO_CRIME_DATA\n",
    "                             GROUP BY COMMUNITY_AREA_NUMBER\n",
    "                             ORDER BY COUNT(*) DESC\n",
    "                             LIMIT 1)"
   ]
  },
  {
   "cell_type": "markdown",
   "metadata": {},
   "source": [
    "## Author(s)\n",
    "\n",
    "<h4> Zak Mohamed </h4>\n",
    "<h4> Hima Vasudevan </h4>\n",
    "<h4> Rav Ahuja </h4>\n",
    "<h4> Ramesh Sannreddy </h4>\n",
    "\n",
    "## Contribtuor(s)\n",
    "\n",
    "<h4> Malika Singla </h4>\n",
    "<h4>Abhishek Gagneja</h4>\n",
    "\n",
    "## <h3 align=\"center\"> © IBM Corporation 2023. All rights reserved. <h3/>\n"
   ]
  },
  {
   "cell_type": "code",
   "execution_count": null,
   "metadata": {},
   "outputs": [],
   "source": []
  }
 ],
 "metadata": {
  "kernelspec": {
   "display_name": "Python",
   "language": "python",
   "name": "conda-env-python-py"
  },
  "language_info": {
   "codemirror_mode": {
    "name": "ipython",
    "version": 3
   },
   "file_extension": ".py",
   "mimetype": "text/x-python",
   "name": "python",
   "nbconvert_exporter": "python",
   "pygments_lexer": "ipython3",
   "version": "3.7.12"
  }
 },
 "nbformat": 4,
 "nbformat_minor": 4
}
